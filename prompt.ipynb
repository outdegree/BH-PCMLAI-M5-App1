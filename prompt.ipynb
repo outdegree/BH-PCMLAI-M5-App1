{
 "cells": [
  {
   "cell_type": "markdown",
   "metadata": {},
   "source": [
    "### Will a Customer Accept the Coupon?\n",
    "\n",
    "**Context**\n",
    "\n",
    "Imagine driving through town and a coupon is delivered to your cell phone for a restaraunt near where you are driving. Would you accept that coupon and take a short detour to the restaraunt? Would you accept the coupon but use it on a sunbsequent trip? Would you ignore the coupon entirely? What if the coupon was for a bar instead of a restaraunt? What about a coffee house? Would you accept a bar coupon with a minor passenger in the car? What about if it was just you and your partner in the car? Would weather impact the rate of acceptance? What about the time of day?\n",
    "\n",
    "Obviously, proximity to the business is a factor on whether the coupon is delivered to the driver or not, but what are the factors that determine whether a driver accepts the coupon once it is delivered to them? How would you determine whether a driver is likely to accept a coupon?\n",
    "\n",
    "**Overview**\n",
    "\n",
    "The goal of this project is to use what you know about visualizations and probability distributions to distinguish between customers who accepted a driving coupon versus those that did not.\n",
    "\n",
    "**Data**\n",
    "\n",
    "This data comes to us from the UCI Machine Learning repository and was collected via a survey on Amazon Mechanical Turk. The survey describes different driving scenarios including the destination, current time, weather, passenger, etc., and then ask the person whether he will accept the coupon if he is the driver. Answers that the user will drive there ‘right away’ or ‘later before the coupon expires’ are labeled as ‘Y = 1’ and answers ‘no, I do not want the coupon’ are labeled as ‘Y = 0’.  There are five different types of coupons -- less expensive restaurants (under \\\\$20), coffee houses, carry out & take away, bar, and more expensive restaurants (\\\\$20 - \\\\$50). "
   ]
  },
  {
   "cell_type": "markdown",
   "metadata": {},
   "source": [
    "**Deliverables**\n",
    "\n",
    "Your final product should be a brief report that highlights the differences between customers who did and did not accept the coupons.  To explore the data you will utilize your knowledge of plotting, statistical summaries, and visualization using Python. You will publish your findings in a public facing github repository as your first portfolio piece. \n",
    "\n",
    "\n",
    "\n"
   ]
  },
  {
   "cell_type": "markdown",
   "metadata": {},
   "source": [
    "### Data Description\n",
    "Keep in mind that these values mentioned below are average values.\n",
    "\n",
    "The attributes of this data set include:\n",
    "1. User attributes\n",
    "    -  Gender: male, female\n",
    "    -  Age: below 21, 21 to 25, 26 to 30, etc.\n",
    "    -  Marital Status: single, married partner, unmarried partner, or widowed\n",
    "    -  Number of children: 0, 1, or more than 1\n",
    "    -  Education: high school, bachelors degree, associates degree, or graduate degree\n",
    "    -  Occupation: architecture & engineering, business & financial, etc.\n",
    "    -  Annual income: less than \\\\$12500, \\\\$12500 - \\\\$24999, \\\\$25000 - \\\\$37499, etc.\n",
    "    -  Number of times that he/she goes to a bar: 0, less than 1, 1 to 3, 4 to 8 or greater than 8\n",
    "    -  Number of times that he/she buys takeaway food: 0, less than 1, 1 to 3, 4 to 8 or greater\n",
    "    than 8\n",
    "    -  Number of times that he/she goes to a coffee house: 0, less than 1, 1 to 3, 4 to 8 or\n",
    "    greater than 8\n",
    "    -  Number of times that he/she eats at a restaurant with average expense less than \\\\$20 per\n",
    "    person: 0, less than 1, 1 to 3, 4 to 8 or greater than 8\n",
    "    -  Number of times that he/she goes to a bar: 0, less than 1, 1 to 3, 4 to 8 or greater than 8\n",
    "    \n",
    "\n",
    "2. Contextual attributes\n",
    "    - Driving destination: home, work, or no urgent destination\n",
    "    - Location of user, coupon and destination: we provide a map to show the geographical\n",
    "    location of the user, destination, and the venue, and we mark the distance between each\n",
    "    two places with time of driving. The user can see whether the venue is in the same\n",
    "    direction as the destination.\n",
    "    - Weather: sunny, rainy, or snowy\n",
    "    - Temperature: 30F, 55F, or 80F\n",
    "    - Time: 10AM, 2PM, or 6PM\n",
    "    - Passenger: alone, partner, kid(s), or friend(s)\n",
    "\n",
    "\n",
    "3. Coupon attributes\n",
    "    - time before it expires: 2 hours or one day"
   ]
  },
  {
   "cell_type": "code",
   "execution_count": 1,
   "metadata": {},
   "outputs": [],
   "source": [
    "import matplotlib.pyplot as plt\n",
    "import seaborn as sns\n",
    "import pandas as pd\n",
    "import numpy as np"
   ]
  },
  {
   "cell_type": "markdown",
   "metadata": {},
   "source": [
    "### Problems\n",
    "\n",
    "Use the prompts below to get started with your data analysis.  \n",
    "\n",
    "1. Read in the `coupons.csv` file.\n",
    "\n",
    "\n"
   ]
  },
  {
   "cell_type": "code",
   "execution_count": 2,
   "metadata": {},
   "outputs": [],
   "source": [
    "data = pd.read_csv('data/coupons.csv')"
   ]
  },
  {
   "cell_type": "code",
   "execution_count": 3,
   "metadata": {},
   "outputs": [
    {
     "data": {
      "text/html": [
       "<div>\n",
       "<style scoped>\n",
       "    .dataframe tbody tr th:only-of-type {\n",
       "        vertical-align: middle;\n",
       "    }\n",
       "\n",
       "    .dataframe tbody tr th {\n",
       "        vertical-align: top;\n",
       "    }\n",
       "\n",
       "    .dataframe thead th {\n",
       "        text-align: right;\n",
       "    }\n",
       "</style>\n",
       "<table border=\"1\" class=\"dataframe\">\n",
       "  <thead>\n",
       "    <tr style=\"text-align: right;\">\n",
       "      <th></th>\n",
       "      <th>destination</th>\n",
       "      <th>passanger</th>\n",
       "      <th>weather</th>\n",
       "      <th>temperature</th>\n",
       "      <th>time</th>\n",
       "      <th>coupon</th>\n",
       "      <th>expiration</th>\n",
       "      <th>gender</th>\n",
       "      <th>age</th>\n",
       "      <th>maritalStatus</th>\n",
       "      <th>...</th>\n",
       "      <th>CoffeeHouse</th>\n",
       "      <th>CarryAway</th>\n",
       "      <th>RestaurantLessThan20</th>\n",
       "      <th>Restaurant20To50</th>\n",
       "      <th>toCoupon_GEQ5min</th>\n",
       "      <th>toCoupon_GEQ15min</th>\n",
       "      <th>toCoupon_GEQ25min</th>\n",
       "      <th>direction_same</th>\n",
       "      <th>direction_opp</th>\n",
       "      <th>Y</th>\n",
       "    </tr>\n",
       "  </thead>\n",
       "  <tbody>\n",
       "    <tr>\n",
       "      <th>0</th>\n",
       "      <td>No Urgent Place</td>\n",
       "      <td>Alone</td>\n",
       "      <td>Sunny</td>\n",
       "      <td>55</td>\n",
       "      <td>2PM</td>\n",
       "      <td>Restaurant(&lt;20)</td>\n",
       "      <td>1d</td>\n",
       "      <td>Female</td>\n",
       "      <td>21</td>\n",
       "      <td>Unmarried partner</td>\n",
       "      <td>...</td>\n",
       "      <td>never</td>\n",
       "      <td>NaN</td>\n",
       "      <td>4~8</td>\n",
       "      <td>1~3</td>\n",
       "      <td>1</td>\n",
       "      <td>0</td>\n",
       "      <td>0</td>\n",
       "      <td>0</td>\n",
       "      <td>1</td>\n",
       "      <td>1</td>\n",
       "    </tr>\n",
       "    <tr>\n",
       "      <th>1</th>\n",
       "      <td>No Urgent Place</td>\n",
       "      <td>Friend(s)</td>\n",
       "      <td>Sunny</td>\n",
       "      <td>80</td>\n",
       "      <td>10AM</td>\n",
       "      <td>Coffee House</td>\n",
       "      <td>2h</td>\n",
       "      <td>Female</td>\n",
       "      <td>21</td>\n",
       "      <td>Unmarried partner</td>\n",
       "      <td>...</td>\n",
       "      <td>never</td>\n",
       "      <td>NaN</td>\n",
       "      <td>4~8</td>\n",
       "      <td>1~3</td>\n",
       "      <td>1</td>\n",
       "      <td>0</td>\n",
       "      <td>0</td>\n",
       "      <td>0</td>\n",
       "      <td>1</td>\n",
       "      <td>0</td>\n",
       "    </tr>\n",
       "    <tr>\n",
       "      <th>2</th>\n",
       "      <td>No Urgent Place</td>\n",
       "      <td>Friend(s)</td>\n",
       "      <td>Sunny</td>\n",
       "      <td>80</td>\n",
       "      <td>10AM</td>\n",
       "      <td>Carry out &amp; Take away</td>\n",
       "      <td>2h</td>\n",
       "      <td>Female</td>\n",
       "      <td>21</td>\n",
       "      <td>Unmarried partner</td>\n",
       "      <td>...</td>\n",
       "      <td>never</td>\n",
       "      <td>NaN</td>\n",
       "      <td>4~8</td>\n",
       "      <td>1~3</td>\n",
       "      <td>1</td>\n",
       "      <td>1</td>\n",
       "      <td>0</td>\n",
       "      <td>0</td>\n",
       "      <td>1</td>\n",
       "      <td>1</td>\n",
       "    </tr>\n",
       "    <tr>\n",
       "      <th>3</th>\n",
       "      <td>No Urgent Place</td>\n",
       "      <td>Friend(s)</td>\n",
       "      <td>Sunny</td>\n",
       "      <td>80</td>\n",
       "      <td>2PM</td>\n",
       "      <td>Coffee House</td>\n",
       "      <td>2h</td>\n",
       "      <td>Female</td>\n",
       "      <td>21</td>\n",
       "      <td>Unmarried partner</td>\n",
       "      <td>...</td>\n",
       "      <td>never</td>\n",
       "      <td>NaN</td>\n",
       "      <td>4~8</td>\n",
       "      <td>1~3</td>\n",
       "      <td>1</td>\n",
       "      <td>1</td>\n",
       "      <td>0</td>\n",
       "      <td>0</td>\n",
       "      <td>1</td>\n",
       "      <td>0</td>\n",
       "    </tr>\n",
       "    <tr>\n",
       "      <th>4</th>\n",
       "      <td>No Urgent Place</td>\n",
       "      <td>Friend(s)</td>\n",
       "      <td>Sunny</td>\n",
       "      <td>80</td>\n",
       "      <td>2PM</td>\n",
       "      <td>Coffee House</td>\n",
       "      <td>1d</td>\n",
       "      <td>Female</td>\n",
       "      <td>21</td>\n",
       "      <td>Unmarried partner</td>\n",
       "      <td>...</td>\n",
       "      <td>never</td>\n",
       "      <td>NaN</td>\n",
       "      <td>4~8</td>\n",
       "      <td>1~3</td>\n",
       "      <td>1</td>\n",
       "      <td>1</td>\n",
       "      <td>0</td>\n",
       "      <td>0</td>\n",
       "      <td>1</td>\n",
       "      <td>0</td>\n",
       "    </tr>\n",
       "  </tbody>\n",
       "</table>\n",
       "<p>5 rows × 26 columns</p>\n",
       "</div>"
      ],
      "text/plain": [
       "       destination  passanger weather  temperature  time  \\\n",
       "0  No Urgent Place      Alone   Sunny           55   2PM   \n",
       "1  No Urgent Place  Friend(s)   Sunny           80  10AM   \n",
       "2  No Urgent Place  Friend(s)   Sunny           80  10AM   \n",
       "3  No Urgent Place  Friend(s)   Sunny           80   2PM   \n",
       "4  No Urgent Place  Friend(s)   Sunny           80   2PM   \n",
       "\n",
       "                  coupon expiration  gender age      maritalStatus  ...  \\\n",
       "0        Restaurant(<20)         1d  Female  21  Unmarried partner  ...   \n",
       "1           Coffee House         2h  Female  21  Unmarried partner  ...   \n",
       "2  Carry out & Take away         2h  Female  21  Unmarried partner  ...   \n",
       "3           Coffee House         2h  Female  21  Unmarried partner  ...   \n",
       "4           Coffee House         1d  Female  21  Unmarried partner  ...   \n",
       "\n",
       "   CoffeeHouse CarryAway RestaurantLessThan20 Restaurant20To50  \\\n",
       "0        never       NaN                  4~8              1~3   \n",
       "1        never       NaN                  4~8              1~3   \n",
       "2        never       NaN                  4~8              1~3   \n",
       "3        never       NaN                  4~8              1~3   \n",
       "4        never       NaN                  4~8              1~3   \n",
       "\n",
       "  toCoupon_GEQ5min toCoupon_GEQ15min toCoupon_GEQ25min direction_same  \\\n",
       "0                1                 0                 0              0   \n",
       "1                1                 0                 0              0   \n",
       "2                1                 1                 0              0   \n",
       "3                1                 1                 0              0   \n",
       "4                1                 1                 0              0   \n",
       "\n",
       "  direction_opp  Y  \n",
       "0             1  1  \n",
       "1             1  0  \n",
       "2             1  1  \n",
       "3             1  0  \n",
       "4             1  0  \n",
       "\n",
       "[5 rows x 26 columns]"
      ]
     },
     "execution_count": 3,
     "metadata": {},
     "output_type": "execute_result"
    }
   ],
   "source": [
    "data.head()"
   ]
  },
  {
   "cell_type": "markdown",
   "metadata": {},
   "source": [
    "Let's look at the data types of the columns."
   ]
  },
  {
   "cell_type": "code",
   "execution_count": 4,
   "metadata": {},
   "outputs": [
    {
     "name": "stdout",
     "output_type": "stream",
     "text": [
      "<class 'pandas.core.frame.DataFrame'>\n",
      "RangeIndex: 12684 entries, 0 to 12683\n",
      "Data columns (total 26 columns):\n",
      " #   Column                Non-Null Count  Dtype \n",
      "---  ------                --------------  ----- \n",
      " 0   destination           12684 non-null  object\n",
      " 1   passanger             12684 non-null  object\n",
      " 2   weather               12684 non-null  object\n",
      " 3   temperature           12684 non-null  int64 \n",
      " 4   time                  12684 non-null  object\n",
      " 5   coupon                12684 non-null  object\n",
      " 6   expiration            12684 non-null  object\n",
      " 7   gender                12684 non-null  object\n",
      " 8   age                   12684 non-null  object\n",
      " 9   maritalStatus         12684 non-null  object\n",
      " 10  has_children          12684 non-null  int64 \n",
      " 11  education             12684 non-null  object\n",
      " 12  occupation            12684 non-null  object\n",
      " 13  income                12684 non-null  object\n",
      " 14  car                   108 non-null    object\n",
      " 15  Bar                   12577 non-null  object\n",
      " 16  CoffeeHouse           12467 non-null  object\n",
      " 17  CarryAway             12533 non-null  object\n",
      " 18  RestaurantLessThan20  12554 non-null  object\n",
      " 19  Restaurant20To50      12495 non-null  object\n",
      " 20  toCoupon_GEQ5min      12684 non-null  int64 \n",
      " 21  toCoupon_GEQ15min     12684 non-null  int64 \n",
      " 22  toCoupon_GEQ25min     12684 non-null  int64 \n",
      " 23  direction_same        12684 non-null  int64 \n",
      " 24  direction_opp         12684 non-null  int64 \n",
      " 25  Y                     12684 non-null  int64 \n",
      "dtypes: int64(8), object(18)\n",
      "memory usage: 2.5+ MB\n"
     ]
    }
   ],
   "source": [
    "data.info()"
   ]
  },
  {
   "cell_type": "code",
   "execution_count": 5,
   "metadata": {},
   "outputs": [
    {
     "data": {
      "text/plain": [
       "12684"
      ]
     },
     "execution_count": 5,
     "metadata": {},
     "output_type": "execute_result"
    }
   ],
   "source": [
    "data.shape\n",
    "original_number_of_rows = data.shape[0]\n",
    "original_number_of_rows"
   ]
  },
  {
   "cell_type": "markdown",
   "metadata": {},
   "source": [
    "The dataset consists of 12684 entries."
   ]
  },
  {
   "cell_type": "markdown",
   "metadata": {},
   "source": [
    "2. Investigate the dataset for missing or problematic data."
   ]
  },
  {
   "cell_type": "code",
   "execution_count": 6,
   "metadata": {},
   "outputs": [
    {
     "data": {
      "text/plain": [
       "destination                 0\n",
       "passanger                   0\n",
       "weather                     0\n",
       "temperature                 0\n",
       "time                        0\n",
       "coupon                      0\n",
       "expiration                  0\n",
       "gender                      0\n",
       "age                         0\n",
       "maritalStatus               0\n",
       "has_children                0\n",
       "education                   0\n",
       "occupation                  0\n",
       "income                      0\n",
       "car                     12576\n",
       "Bar                       107\n",
       "CoffeeHouse               217\n",
       "CarryAway                 151\n",
       "RestaurantLessThan20      130\n",
       "Restaurant20To50          189\n",
       "toCoupon_GEQ5min            0\n",
       "toCoupon_GEQ15min           0\n",
       "toCoupon_GEQ25min           0\n",
       "direction_same              0\n",
       "direction_opp               0\n",
       "Y                           0\n",
       "dtype: int64"
      ]
     },
     "execution_count": 6,
     "metadata": {},
     "output_type": "execute_result"
    }
   ],
   "source": [
    "data.isna().sum()"
   ]
  },
  {
   "cell_type": "markdown",
   "metadata": {},
   "source": [
    "3. Decide what to do about your missing data -- drop, replace, other..."
   ]
  },
  {
   "cell_type": "code",
   "execution_count": 7,
   "metadata": {},
   "outputs": [
    {
     "data": {
      "text/plain": [
       "Scooter and motorcycle                      22\n",
       "Mazda5                                      22\n",
       "do not drive                                22\n",
       "crossover                                   21\n",
       "Car that is too old to install Onstar :D    21\n",
       "Name: car, dtype: int64"
      ]
     },
     "execution_count": 7,
     "metadata": {},
     "output_type": "execute_result"
    }
   ],
   "source": [
    "data['car'].value_counts()"
   ]
  },
  {
   "cell_type": "markdown",
   "metadata": {},
   "source": [
    "Car column seems to contain just 0.9% of data and looks irrelevant too. I don't think vehicle type matters in this research. We can drop this column altogether.\n",
    "\n",
    "Next, we can also drop the other rows which contain NaNs, there's not that many of them."
   ]
  },
  {
   "cell_type": "code",
   "execution_count": 8,
   "metadata": {},
   "outputs": [
    {
     "name": "stdout",
     "output_type": "stream",
     "text": [
      "Percent of rows remaining after data cleaning:  95.23021128981394\n"
     ]
    }
   ],
   "source": [
    "# Drop 'car' column\n",
    "data.drop(columns='car', inplace=True)\n",
    "\n",
    "# Drop the other NaNs\n",
    "data.dropna(inplace=True)\n",
    "\n",
    "# Column 'passenger' has a typo. Fix it.\n",
    "data.rename(columns = {'passanger' : 'passenger'}, inplace=True)\n",
    "\n",
    "# Convert 'age' column from text to numerical representation for ease of querying and analysis of the Bar attendance. \n",
    "data['age'] = data['age'].str.replace('50plus', '51', regex=False)\n",
    "data['age'] = data['age'].str.replace('below21','20', regex=False)\n",
    "data['age'] = pd.to_numeric(data['age'])\n",
    "\n",
    "# Change 'income' string value ranges to numerical identifiers and sorted for easy querying.\n",
    "data['income'] = data['income'].str.replace('Less than $12500', '1', regex=False)\n",
    "data['income'] = data['income'].str.replace('$12500 - $24999', '2', regex=False)\n",
    "data['income'] = data['income'].str.replace('$25000 - $37499', '3', regex=False)\n",
    "data['income'] = data['income'].str.replace('$37500 - $49999', '4', regex=False)\n",
    "data['income'] = data['income'].str.replace('$50000 - $62499', '5', regex=False)\n",
    "data['income'] = data['income'].str.replace('$62500 - $74999', '6', regex=False)\n",
    "data['income'] = data['income'].str.replace('$75000 - $87499', '7', regex=False)\n",
    "data['income'] = data['income'].str.replace('$87500 - $99999', '8', regex=False)\n",
    "data['income'] = data['income'].str.replace('$100000 or More', '9', regex=False)\n",
    "data['income'] = pd.to_numeric(data['income'])\n",
    "\n",
    "# Calculate percentage of data remaining after pruning and cleaning of the original data set.\n",
    "number_of_rows_after_pruning = data.shape[0]\n",
    "number_of_rows_after_pruning\n",
    "percent_of_rows_remaining = (number_of_rows_after_pruning / original_number_of_rows) * 100\n",
    "print('Percent of rows remaining after data cleaning: ', percent_of_rows_remaining)"
   ]
  },
  {
   "cell_type": "markdown",
   "metadata": {},
   "source": [
    "This looks good. After data cleaning we have remaining 95% of the data to work with."
   ]
  },
  {
   "cell_type": "markdown",
   "metadata": {},
   "source": [
    "4. What proportion of the total observations chose to accept the coupon? \n",
    "\n"
   ]
  },
  {
   "cell_type": "code",
   "execution_count": 9,
   "metadata": {},
   "outputs": [
    {
     "name": "stdout",
     "output_type": "stream",
     "text": [
      "Percent of drivers who accepted a coupon:  56.93352098683666\n"
     ]
    }
   ],
   "source": [
    "number_of_coupons_accepted = data[data['Y'] == 1]['Y'].value_counts()[1]\n",
    "percent_of_coupons_accepted = (number_of_coupons_accepted / number_of_rows_after_pruning) * 100\n",
    "print('Percent of drivers who accepted a coupon: ', percent_of_coupons_accepted)"
   ]
  },
  {
   "cell_type": "markdown",
   "metadata": {},
   "source": [
    "5. Use a bar plot to visualize the `coupon` column."
   ]
  },
  {
   "cell_type": "code",
   "execution_count": 10,
   "metadata": {},
   "outputs": [
    {
     "data": {
      "image/png": "[encoded data removed]",
      "text/plain": [
       "<Figure size 640x480 with 1 Axes>"
      ]
     },
     "metadata": {},
     "output_type": "display_data"
    }
   ],
   "source": [
    "# Set \"Spectral\" palette for all the plots.\n",
    "sns.set_palette('Spectral')\n",
    "\n",
    "# Plot the histogram using countplot() method. Sort descending by count values.\n",
    "sns.countplot(data, x='coupon', hue='Y', order = data['coupon'].value_counts().index)\n",
    "plt.legend(title='Acceptance', labels=['No', 'Yes'])\n",
    "\n",
    "# Remove unnecessary x-axis label containing column's name and rotate the ticks.\n",
    "plt.xlabel('')\n",
    "plt.xticks(rotation=45)\n",
    "plt.savefig(\"images/coupon_category_histogram.png\")\n",
    "plt.show()"
   ]
  },
  {
   "cell_type": "markdown",
   "metadata": {},
   "source": [
    "6. Use a histogram to visualize the temperature column."
   ]
  },
  {
   "cell_type": "code",
   "execution_count": 11,
   "metadata": {},
   "outputs": [
    {
     "data": {
      "image/png": "[encoded data removed]",
      "text/plain": [
       "<Figure size 640x480 with 1 Axes>"
      ]
     },
     "metadata": {},
     "output_type": "display_data"
    }
   ],
   "source": [
    "sns.histplot(data, x='temperature', hue='Y')\n",
    "plt.legend(title='Acceptance', labels=['Yes', 'No'])\n",
    "plt.title('Histogram of Temperatures')\n",
    "plt.xlabel('Ambient Temperature (F)')\n",
    "plt.savefig(\"images/temperature_histogram.png\")\n",
    "plt.show()"
   ]
  },
  {
   "cell_type": "markdown",
   "metadata": {},
   "source": [
    "> Summary\n",
    "> - Inexpensive restaurants or take outs are the most accepted coupon types. People on the road trip don't have a lot of time to spend at a sit down restaurant.\n",
    "> - Bars are the most rejected coupons. Who wants to drink while on the road?\n",
    "> - Drivers in hot climate are more keen to accept the coupon."
   ]
  },
  {
   "cell_type": "markdown",
   "metadata": {},
   "source": [
    "**Investigating the Bar Coupons**\n",
    "\n",
    "Now, we will lead you through an exploration of just the bar related coupons.  \n",
    "\n",
    "1. Create a new `DataFrame` that contains just the bar coupons.\n"
   ]
  },
  {
   "cell_type": "code",
   "execution_count": 12,
   "metadata": {},
   "outputs": [
    {
     "name": "stdout",
     "output_type": "stream",
     "text": [
      "(1913, 25)\n"
     ]
    }
   ],
   "source": [
    "# DF of all drivers who were offered a bar coupon.\n",
    "received_bar_coupons = data[data['coupon'] == 'Bar']\n",
    "print(received_bar_coupons.shape)"
   ]
  },
  {
   "cell_type": "markdown",
   "metadata": {},
   "source": [
    "2. What proportion of bar coupons were accepted?\n"
   ]
  },
  {
   "cell_type": "code",
   "execution_count": 13,
   "metadata": {},
   "outputs": [
    {
     "name": "stdout",
     "output_type": "stream",
     "text": [
      "(788, 25)\n",
      "41.19184526921067\n",
      "6.523718850898254\n"
     ]
    }
   ],
   "source": [
    "# DF of all people who accepted the bar coupon after the offer.\n",
    "accepted_bar_coupons = received_bar_coupons[received_bar_coupons['Y'] == 1]\n",
    "print(accepted_bar_coupons.shape)\n",
    "\n",
    "# Calculate proportion of people who accepted bar coupons to people who got offered only bar coupons.  \n",
    "proportion_of_accepted_bar_coupons = (accepted_bar_coupons.shape[0] / received_bar_coupons.shape[0]) * 100\n",
    "print(proportion_of_accepted_bar_coupons)\n",
    "\n",
    "# Calculate proportion of people who accepted bar coupons to people who got offered all sort of coupons.  \n",
    "proportion_of_accepted_bar_coupons_to_all_coupons = (accepted_bar_coupons.shape[0] / number_of_rows_after_pruning) * 100\n",
    "print(proportion_of_accepted_bar_coupons_to_all_coupons)"
   ]
  },
  {
   "cell_type": "markdown",
   "metadata": {},
   "source": [
    "> Summary\n",
    "> - Only 41.2% of Bar coupons are accepted.\n",
    "> - This is only 6.5% of all coupons issued."
   ]
  },
  {
   "cell_type": "markdown",
   "metadata": {},
   "source": [
    "3. Compare the acceptance rate between those who went to a bar 3 or fewer times a month to those who went more.\n"
   ]
  },
  {
   "cell_type": "code",
   "execution_count": 14,
   "metadata": {},
   "outputs": [
    {
     "name": "stdout",
     "output_type": "stream",
     "text": [
      "never    4934\n",
      "less1    3394\n",
      "1~3      2370\n",
      "4~8      1054\n",
      "gt8       327\n",
      "Name: Bar, dtype: int64\n",
      "never    788\n",
      "less1    553\n",
      "1~3      379\n",
      "4~8      147\n",
      "gt8       46\n",
      "Name: Bar, dtype: int64\n",
      "less1    247\n",
      "1~3      245\n",
      "never    149\n",
      "4~8      114\n",
      "gt8       33\n",
      "Name: Bar, dtype: int64\n",
      "Ratio of drivers who received and accepted the bar coupon but do not frequently go to bars:  37.26744186046512\n",
      "Ratio of drivers who received and accepted the bar coupon and frequently go to bars:  76.16580310880829\n"
     ]
    }
   ],
   "source": [
    "# Breakdown of all people in DF by how often they go a bar.\n",
    "print(data['Bar'].value_counts())\n",
    "\n",
    "# Breakdown of people by how often they go a bar; and received the bar coupon.\n",
    "print(received_bar_coupons['Bar'].value_counts())\n",
    "\n",
    "# Breakdown of people by how often they go a bar; and received the bar coupon; and accepted it.\n",
    "print(accepted_bar_coupons['Bar'].value_counts())\n",
    "\n",
    "###\n",
    "\n",
    "query_lite_drinker = '(Bar == \"never\") or (Bar == \"less1\") or (Bar == \"1~3\")'\n",
    "query_bar_fly = '(Bar == \"4~8\") or (Bar == \"gt8\")'\n",
    "\n",
    "ldr = received_bar_coupons.query(query_lite_drinker)\n",
    "lda = accepted_bar_coupons.query(query_lite_drinker)\n",
    "#print(ldr.shape)\n",
    "#print(lda.shape)\n",
    "\n",
    "ld_ratio = (lda.shape[0] / ldr.shape[0]) * 100\n",
    "print(\"Ratio of drivers who received and accepted the bar coupon but do not frequently go to bars: \", ld_ratio)\n",
    "\n",
    "bfr = received_bar_coupons.query(query_bar_fly)\n",
    "bfa = accepted_bar_coupons.query(query_bar_fly)\n",
    "#print(bfr.shape)\n",
    "#print(bfa.shape)\n",
    "\n",
    "bf_ratio = (bfa.shape[0] / bfr.shape[0]) * 100\n",
    "print(\"Ratio of drivers who received and accepted the bar coupon and frequently go to bars: \", bf_ratio)\n"
   ]
  },
  {
   "cell_type": "markdown",
   "metadata": {},
   "source": [
    "> Summary \n",
    "> - Interesting indeed. People who often visit bars (4 times or more a month) accepted the Bar Coupon 76% of the time. Where are less bar fly inclined (3 times a month or less) accepted the Bar Coupon only 37% of the time. "
   ]
  },
  {
   "cell_type": "markdown",
   "metadata": {},
   "source": [
    "4. Compare the acceptance rate between drivers who go to a bar more than once a month and are over the age of 25 to the all others.  Is there a difference?\n"
   ]
  },
  {
   "cell_type": "code",
   "execution_count": 15,
   "metadata": {},
   "outputs": [
    {
     "name": "stdout",
     "output_type": "stream",
     "text": [
      "(403, 25)\n",
      "68.98263027295285\n",
      "(169, 25)\n",
      "67.45562130177515\n"
     ]
    }
   ],
   "source": [
    "query_go_to_bar_1_times_or_more = '((Bar == \"1~3\") or (Bar == \"4~8\") or (Bar == \"gt8\"))'\n",
    "\n",
    "over_25_r = received_bar_coupons.query(query_go_to_bar_1_times_or_more).query('(age >= 26)')\n",
    "print(over_25_r.shape)\n",
    "over_25_a = over_25_r.query('(Y == 1)')\n",
    "over_25_ratio = (over_25_a.shape[0] / over_25_r.shape[0]) * 100\n",
    "print(over_25_ratio)\n",
    "\n",
    "below_25_r = received_bar_coupons.query(query_go_to_bar_1_times_or_more).query('(age < 26)')\n",
    "print(below_25_r.shape)\n",
    "below_25_a = below_25_r.query('(Y == 1)')\n",
    "below_25_ratio = (below_25_a.shape[0] / below_25_r.shape[0]) * 100\n",
    "print(below_25_ratio)"
   ]
  },
  {
   "cell_type": "markdown",
   "metadata": {},
   "source": [
    "> Summary\n",
    "> - It looks age does not play significant role in accepting the Bar coupon for people who visit a bar at least 1 time a month or more."
   ]
  },
  {
   "cell_type": "markdown",
   "metadata": {},
   "source": [
    "5. Use the same process to compare the acceptance rate between drivers who go to bars more than once a month and had passengers that were not a kid and had occupations other than farming, fishing, or forestry. \n"
   ]
  },
  {
   "cell_type": "code",
   "execution_count": 16,
   "metadata": {},
   "outputs": [
    {
     "name": "stdout",
     "output_type": "stream",
     "text": [
      "Ratio:  70.94339622641509\n"
     ]
    }
   ],
   "source": [
    "#print(data['passenger'].unique())\n",
    "#print(data['occupation'].unique())\n",
    "\n",
    "query_no_kid_passengers = '(passenger != \"Kid(s)\")'\n",
    "query_not_farmer_fishing_forestry = '(occupation != \"Farming Fishing & Forestry\")'\n",
    "\n",
    "nk_r = received_bar_coupons.query(query_go_to_bar_1_times_or_more).query(query_no_kid_passengers).query(query_not_farmer_fishing_forestry)\n",
    "nk_a = nk_r.query('(Y == 1)')\n",
    "nk_ratio = (nk_a.shape[0] / nk_r.shape[0]) * 100\n",
    "print('Ratio: ', nk_ratio)"
   ]
  },
  {
   "cell_type": "markdown",
   "metadata": {},
   "source": [
    "> Summary\n",
    "> - Ratio of drivers who received and accepted the bar coupon, have no kid passengers, work in industry other than \"Farming, Fishing or Forestry\" is 71% "
   ]
  },
  {
   "cell_type": "markdown",
   "metadata": {},
   "source": [
    "6. Compare the acceptance rates between those drivers who:\n",
    "\n",
    "- go to bars more than once a month, had passengers that were not a kid, and were not widowed *OR*\n",
    "- go to bars more than once a month and are under the age of 30 *OR*\n",
    "- go to cheap restaurants more than 4 times a month and income is less than 50K. \n",
    "\n"
   ]
  },
  {
   "cell_type": "code",
   "execution_count": 17,
   "metadata": {},
   "outputs": [
    {
     "name": "stdout",
     "output_type": "stream",
     "text": [
      "Not widowed:  70.94339622641509\n",
      "Under 30:  71.95121951219512\n",
      "Income less than 50k:  41.82389937106918\n"
     ]
    }
   ],
   "source": [
    "#data['age'].unique()\n",
    "#print(data['maritalStatus'].unique())\n",
    "#print(data['RestaurantLessThan20'].unique())\n",
    "\n",
    "not_widowed_r = received_bar_coupons.query(query_go_to_bar_1_times_or_more).query(query_no_kid_passengers).query('maritalStatus != \"Widowed\"')\n",
    "not_widowed_a = not_widowed_r.query('(Y == 1)')\n",
    "not_widowed_ratio = (not_widowed_a.shape[0] / not_widowed_r.shape[0]) * 100\n",
    "print('Not widowed: ', not_widowed_ratio)\n",
    "\n",
    "under30_r = received_bar_coupons.query(query_go_to_bar_1_times_or_more).query('age < 30')\n",
    "under30_a = under30_r.query('(Y == 1)')\n",
    "under30_ratio = (under30_a.shape[0] / under30_r.shape[0]) * 100\n",
    "print('Under 30: ', under30_ratio)\n",
    "\n",
    "# Income = 4 -> range $37500 - $49999\n",
    "income_lt_50k_r = received_bar_coupons.query('(RestaurantLessThan20 != \"never\")').query('income <= 4')\n",
    "income_lt_50k_a = income_lt_50k_r.query('(Y == 1)')\n",
    "income_lt_50k_ratio = (income_lt_50k_a.shape[0] / income_lt_50k_r.shape[0]) * 100\n",
    "print('Income less than 50k: ', income_lt_50k_ratio)"
   ]
  },
  {
   "cell_type": "markdown",
   "metadata": {},
   "source": [
    "> Summary\n",
    "> - Ratio of drivers who received and accepted the bar coupon, have no kid passengers, are not widowed: 71%\n",
    "> - Ratio of drivers who received and accepted the bar coupon, are under 30: 72%\n",
    "> - Ratio of drivers who received and accepted the bar coupon, eat at inexpensive resultants, make less than 50k: 44%"
   ]
  },
  {
   "cell_type": "markdown",
   "metadata": {},
   "source": [
    "7.  Based on these observations, what do you hypothesize about drivers who accepted the bar coupons?"
   ]
  },
  {
   "cell_type": "markdown",
   "metadata": {},
   "source": [
    "> Response\n",
    "> - Bar coupons are the least popular coupons. Drinking and driving does not mix well.\n",
    "> - Drivers who likely accept the Bare coupon:\n",
    ">   - Have no kids as passengers\n",
    ">   - Go to Bars more than once a month\n",
    ">   - Are under 30 years old\n"
   ]
  },
  {
   "cell_type": "markdown",
   "metadata": {},
   "source": [
    "### Independent Investigation\n",
    "\n",
    "Using the bar coupon example as motivation, you are to explore one of the other coupon groups and try to determine the characteristics of passengers who accept the coupons.  "
   ]
  },
  {
   "cell_type": "code",
   "execution_count": null,
   "metadata": {},
   "outputs": [],
   "source": []
  },
  {
   "cell_type": "code",
   "execution_count": null,
   "metadata": {},
   "outputs": [],
   "source": []
  },
  {
   "cell_type": "code",
   "execution_count": null,
   "metadata": {},
   "outputs": [],
   "source": []
  },
  {
   "cell_type": "code",
   "execution_count": null,
   "metadata": {},
   "outputs": [],
   "source": []
  },
  {
   "cell_type": "code",
   "execution_count": null,
   "metadata": {},
   "outputs": [],
   "source": []
  }
 ],
 "metadata": {
  "kernelspec": {
   "display_name": "Python 3",
   "language": "python",
   "name": "python3"
  },
  "language_info": {
   "codemirror_mode": {
    "name": "ipython",
    "version": 3
   },
   "file_extension": ".py",
   "mimetype": "text/x-python",
   "name": "python",
   "nbconvert_exporter": "python",
   "pygments_lexer": "ipython3",
   "version": "3.11.8"
  },
  "widgets": {
   "application/vnd.jupyter.widget-state+json": {
    "state": {},
    "version_major": 2,
    "version_minor": 0
   }
  }
 },
 "nbformat": 4,
 "nbformat_minor": 4
}
